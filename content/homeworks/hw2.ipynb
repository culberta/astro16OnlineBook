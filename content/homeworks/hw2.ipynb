{
 "cells": [
  {
   "cell_type": "markdown",
   "metadata": {},
   "source": [
    "# Astronomy 16 - Spring 2019\n",
    "## Homework 2,  Allison Culbert, 2/12/19\n",
    "### A. Closed Quadratures\n",
    "The first part of this assignment evaluates integrals using multiple different tecniques. The integral being assesed is: $\\int_{0}^{\\pi /2}sin^{2m-1}\\theta cos^{2n-1}\\theta d\\theta = \\int_{0}^{\\pi /2}f(x)dx$\n",
    "#### *(i)* Analytical Approach\n",
    "The integral can be solved analytcally using the properties:\n",
    "+ $\\int cos^{m}\\theta sin^{n}\\theta d\\theta = \\frac{cos^{m-1}\\theta sin^{n+1}\\theta }{m+n} + \\frac{m-1}{m+n} \\int cos^{m-2}\\theta sin^{n}\\theta d\\theta$\n",
    "+ $\\int cos\\theta sin^{m}\\theta d\\theta = \\frac{sin^{m+1}\\theta }{m+1}$\n",
    "\n",
    "When m = 2 and n = 4, the integral evaluated from 0 to $\\frac{\\pi}{2}$ is equvalent to 0.025.\n",
    "\n",
    "#### *(ii)* Plotting f(x)\n",
    "In order to plot the function, modules must be imported that provide essenital functions for plotting."
   ]
  },
  {
   "cell_type": "code",
   "execution_count": 34,
   "metadata": {},
   "outputs": [],
   "source": [
    "# importing matplotlib.pyplot and numpy\n",
    "import matplotlib.pyplot as plt\n",
    "import numpy as np\n",
    "import warnings\n",
    "#warnings.filterwarnings(\"ignore\")\n",
    "\n",
    "# Setting m and n values for f(x)\n",
    "m = 2\n",
    "n = 4"
   ]
  },
  {
   "cell_type": "markdown",
   "metadata": {},
   "source": [
    "f(x) is defined as given above."
   ]
  },
  {
   "cell_type": "code",
   "execution_count": 35,
   "metadata": {},
   "outputs": [],
   "source": [
    "# f(x)\n",
    "# parameters: an integer x value\n",
    "# returns: an ineger f(x) value\n",
    "def f(x):\n",
    "    return(((np.sin(x))**((2*m)-1))*((np.cos(x))**((2*n)-1)))"
   ]
  },
  {
   "cell_type": "markdown",
   "metadata": {},
   "source": [
    "f(x) is plotted from 0 to $\\frac{\\pi}{2}$"
   ]
  },
  {
   "cell_type": "code",
   "execution_count": 36,
   "metadata": {},
   "outputs": [
    {
     "data": {
      "image/png": "[encoded data removed]",
      "text/plain": [
       "<matplotlib.figure.Figure at 0x116127860>"
      ]
     },
     "metadata": {},
     "output_type": "display_data"
    }
   ],
   "source": [
    "# Choosing x values for function\n",
    "xvals = np.arange(0, np.pi/2, 0.001)\n",
    "\n",
    "# plotting x by f(x)\n",
    "plt.plot(xvals, f(xvals), c = \"m\")\n",
    "plt.title(\"f(x) = $sin^{2m-1}xcos^{2n-1}xdx$\", fontsize = 17)\n",
    "plt.xlabel(\"x\")\n",
    "plt.ylabel(\"f(x)\")\n",
    "plt.show()"
   ]
  },
  {
   "cell_type": "markdown",
   "metadata": {},
   "source": [
    "#### *(iii)* Trapezoidal Extended Closed Formula\n",
    "The Trapezoidal Extended Closed Formula evaluates an integral by splitting the function into n intervals, and adding up the area of the trapezoids that the pairs of adjacent intervals create. Its general form is: \n",
    "\n",
    "${\\int _{a}^{b}f(x)\\,dx\\approx {\\tfrac {\\Delta x}{2}}\\left(f(x_{0})+2f(x_{1})+2f(x_{2})+2f(x_{3})+2f(x_{4})+\\cdots +2f(x_{n-1})+f(x_{n})\\right)}$\n",
    "\n",
    "where ${\\Delta x={\\frac {b-a}{n}}}$ and $x_{i}=a+i\\Delta x $.\n",
    "\n",
    "The following function, trap_ext, is an implementation of this formula:"
   ]
  },
  {
   "cell_type": "code",
   "execution_count": 96,
   "metadata": {},
   "outputs": [],
   "source": [
    "# trap_ext: a python implementation of the Trapezoidal Extended \n",
    "#           Closed Formula\n",
    "# parameters: two boundary integers, an integer number of partitions,\n",
    "#             a function to be evaluated\n",
    "# returns: an approximate solution to the integral\n",
    "def trap_ext(a, b, n, g):\n",
    "    if n <= 1:\n",
    "        print(\"N must be > 1\")\n",
    "        return\n",
    "    y = 0\n",
    "    h = (b-a)/(n)\n",
    "    for c in range(n+1):\n",
    "        if c == 0:\n",
    "            y += g(a)\n",
    "        elif c == n:\n",
    "            y += g(b)\n",
    "        else:\n",
    "            y += (2*g(a+(c*h)))\n",
    "    return ((y*h)/2)"
   ]
  },
  {
   "cell_type": "code",
   "execution_count": 117,
   "metadata": {},
   "outputs": [
    {
     "name": "stdout",
     "output_type": "stream",
     "text": [
      "0.025000000507577596\n"
     ]
    }
   ],
   "source": [
    "print(trap_ext(0, (np.pi/2), 100, f))"
   ]
  },
  {
   "cell_type": "markdown",
   "metadata": {},
   "source": [
    "#### *(iv)* Simpson's Extended Closed Formula\n",
    "Simpson's extended closed formula is a method to evaluate integrals using n subdivisions of an interval between points a and b. It can be constructed from the trapezoidal rule and the midpoint rule. Its general form is:\n",
    "$ \\int _{a}^{b}f(x)\\,dx\\approx {\\tfrac {\\Delta x}{3}}\\left(f(x_{0})+4f(x_{1})+2f(x_{2})+4f(x_{3})+2f(x_{4})+\\cdots +4f(x_{n-1})+f(x_{n})\\right) $\n",
    "\n",
    "where ${\\Delta x={\\frac {b-a}{n}}}$ and $x_{i}=a+i\\Delta x $.\n",
    "\n",
    "The following is an implementation of Simpson's Extended Closed Formula:"
   ]
  },
  {
   "cell_type": "code",
   "execution_count": 113,
   "metadata": {},
   "outputs": [],
   "source": [
    "# simp_ext: a python implementation of the Simpson's Extended Closed\n",
    "#           Formula\n",
    "# parameters: two boundary integers, an integer number of partitions,\n",
    "#             a function to be evaluated\n",
    "# returns: an approximate solution to the integral\n",
    "def simp_ext(a, b, n, g):\n",
    "    if n <= 0:\n",
    "        print(\"N must be > 0\")\n",
    "        return\n",
    "    y = 0\n",
    "    h = (b-a)/(n)\n",
    "    for c in range(n+1):\n",
    "        if c == 0:\n",
    "            y += g(a)\n",
    "        elif c == n:\n",
    "            y += g(b)\n",
    "        elif (c % 2) != 0:\n",
    "            y += (4*(g(a+(c*h))))\n",
    "        else:\n",
    "            y += (2*(g(a+(c*h))))\n",
    "    return ((y*h)/3)"
   ]
  },
  {
   "cell_type": "code",
   "execution_count": 114,
   "metadata": {},
   "outputs": [
    {
     "name": "stdout",
     "output_type": "stream",
     "text": [
      "0.0249735012277838\n"
     ]
    }
   ],
   "source": [
    "print(simp_ext(0, (np.pi/2), 10, f))"
   ]
  },
  {
   "cell_type": "markdown",
   "metadata": {},
   "source": [
    "#### *(v)* Comparing results from *(iii)* and *(iv)*\n",
    "An error function is defined that takes the absolute value of the difference between the actaul value of the integral and the approximated value of the integral using n subdivisions."
   ]
  },
  {
   "cell_type": "code",
   "execution_count": 115,
   "metadata": {},
   "outputs": [],
   "source": [
    "def err(x, j):\n",
    "    y = []\n",
    "    for a in range(x.size):\n",
    "        a = 0.025-j(0, (np.pi/2), x[a], f)\n",
    "        y.append(abs(a))\n",
    "    return y"
   ]
  },
  {
   "cell_type": "code",
   "execution_count": 116,
   "metadata": {},
   "outputs": [
    {
     "data": {
      "image/png": "[encoded data removed]",
      "text/plain": [
       "<matplotlib.figure.Figure at 0x1160e7f60>"
      ]
     },
     "metadata": {},
     "output_type": "display_data"
    }
   ],
   "source": [
    "err_xvals = np.arange(10, 1000, 10)\n",
    "plt.plot(np.log10(err_xvals), np.log10(err(err_xvals, trap_ext)), c=\"b\")\n",
    "plt.plot(np.log10(err_xvals), np.log10(err(err_xvals, simp_ext)), c=\"g\")\n",
    "plt.title(\"$\\log_{10}$(error) Values for Simpson Extended Formula\\n and Trapezoidal Extended Closed Formula\", fontsize=17)\n",
    "plt.xlabel(\"$\\log_{10}$(N)\", fontsize=12)\n",
    "plt.ylabel(\"$\\log_{10}$(error)\", fontsize=12)\n",
    "plt.legend((\"Trapezoidal Extended Formula\", \"Simpson Extended Formula\"), loc='upper right')\n",
    "plt.show()"
   ]
  },
  {
   "cell_type": "markdown",
   "metadata": {},
   "source": [
    "The plot above is interesting to me, in that it conveys that the Trapezoidal Extended Formula is more accurate for this function. I checked this multiple times, and could not find error with my approximation code. I also found other implementations of the approximation techniques on the internet ([here](https://stackoverflow.com/questions/16001157/simpsons-rule-in-python) and [here](https://stackoverflow.com/questions/21146540/trapezoidal-rule-in-python)), and those codes yielded the same result. My conclusion is either that for this function, the Trapezoidal Extended Formula is a better approximation than Simpson's (which I would be interested to understand why), or that there is a bug somewhere else in my code that I have not been able to find."
   ]
  },
  {
   "cell_type": "markdown",
   "metadata": {},
   "source": [
    "### B. Open Quadratics\n",
    "Integral being evaluated: $\\int_{0}^{\\infty} \\frac{x^{p-1}}{1+x}dx = \\int_{0}^{\\infty}f(x)dx$\n",
    "#### *(i)* Analytical Evaluation\n",
    "\n",
    "#### *(ii)* Plotting the Integral\n",
    "To evaluate this integral between 0 and 1, the variables are changed to $ x = \\frac{y}{1-y}$ and $ dx = \\frac{dy}{(1-y)^{2}} $ to rewrite the integral as $\\int_{0}^{1}f(y)dy $"
   ]
  },
  {
   "cell_type": "code",
   "execution_count": 141,
   "metadata": {},
   "outputs": [],
   "source": [
    "p = 0.5\n",
    "def h(y):\n",
    "#     x = y/(1-y)\n",
    "#     dx = 1/((1-y)**2)\n",
    "#     hx = (x**(p-1))/(1+x)\n",
    "#     return (hx*dx)\n",
    "    fx = (((y/(1-y))**(p-1))/(1+(y/(1-y))))*(1/((1-y)**2))\n",
    "    return fx"
   ]
  },
  {
   "cell_type": "code",
   "execution_count": 145,
   "metadata": {},
   "outputs": [
    {
     "data": {
      "image/png": "[encoded data removed]",
      "text/plain": [
       "<matplotlib.figure.Figure at 0x11dc73a58>"
      ]
     },
     "metadata": {},
     "output_type": "display_data"
    }
   ],
   "source": [
    "yvals = np.arange(0, 1, 0.01)\n",
    "plt.plot(yvals, h(yvals), c = \"green\")\n",
    "plt.title(\"$f(y)$\", fontsize = 17, y=1.06)\n",
    "plt.xlabel(\"y\", fontsize=12)\n",
    "plt.ylabel(\"f(y)\", fontsize=12)\n",
    "plt.show()"
   ]
  },
  {
   "cell_type": "code",
   "execution_count": 148,
   "metadata": {},
   "outputs": [],
   "source": [
    "def ext_open(a, b, g, n):\n",
    "    h = (b-a)/n\n",
    "    y = 0\n",
    "    y += ((55/24)*(g(a+(2*h))))\n",
    "    print(y)\n",
    "    y -= (1/6)*(g(a+(3*h)))\n",
    "    print(y)\n",
    "    y += (11/8)*(g(a+(4*h)))\n",
    "    print(y)\n",
    "    for i in range(5, n-3):\n",
    "        y += g(a+(i*h))\n",
    "    y += (11/8)*(g(a+((n-3)*h)))\n",
    "    y -= (1/6)*(g(a+((n-2)*h)))\n",
    "    print(y)\n",
    "    y += (55/24)*g(a+((n-1)*h))\n",
    "    return y"
   ]
  },
  {
   "cell_type": "code",
   "execution_count": 149,
   "metadata": {},
   "outputs": [
    {
     "name": "stdout",
     "output_type": "stream",
     "text": [
      "16.369047619047617\n",
      "15.392030316113368\n",
      "22.408797808461014\n",
      "262.99630001014515\n",
      "286.0284166098354\n"
     ]
    }
   ],
   "source": [
    "print(ext_open(0, 1, h, 100))"
   ]
  },
  {
   "cell_type": "code",
   "execution_count": null,
   "metadata": {},
   "outputs": [],
   "source": []
  }
 ],
 "metadata": {
  "kernelspec": {
   "display_name": "Python 3",
   "language": "python",
   "name": "python3"
  },
  "language_info": {
   "codemirror_mode": {
    "name": "ipython",
    "version": 3
   },
   "file_extension": ".py",
   "mimetype": "text/x-python",
   "name": "python",
   "nbconvert_exporter": "python",
   "pygments_lexer": "ipython3",
   "version": "3.6.4"
  }
 },
 "nbformat": 4,
 "nbformat_minor": 2
}
