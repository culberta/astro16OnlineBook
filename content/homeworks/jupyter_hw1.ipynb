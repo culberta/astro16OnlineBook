{
 "cells": [
  {
   "cell_type": "markdown",
   "metadata": {},
   "source": [
    "# Root Finding and Polynomial Interpolation\n",
    "\n",
    "#### Allison Culbert, Astronomy 16, Spring 2019, Assignment 1"
   ]
  },
  {
   "cell_type": "markdown",
   "metadata": {},
   "source": [
    "---\n",
    "## Introduction\n",
    "\n",
    "This project uses several different methods to find the roots of functions and approximate the values of functions at certain points. The root finding techniques include bisection and the Newton-Raphson method. Values of functions are approximated using an interpolation technique, specifically Neville's Algorithm. These methods are valuable for analyzing the behaivor of complex functions, and their implementation is very powerful in data analysis.\n",
    "\n",
    "This project report is written as annotations of the code that is the implements the techniques described. There is no data set being interpreted, instead this project looks at how these methods interpret different function's behavior.\n",
    "\n",
    "---\n",
    "\n",
    ">To begin, libraries are imported and variable values are set that will be essential to performing the root finding and interpolation tecniques."
   ]
  },
  {
   "cell_type": "code",
   "execution_count": 1,
   "metadata": {},
   "outputs": [],
   "source": [
    "import matplotlib.pyplot as plt\n",
    "import numpy as np \n",
    "\n",
    "# Setting constants to use in equation\n",
    "Q = 2.7*(10**-10)\n",
    "L = 4.4*(10**30)\n",
    "Tp = 10**9\n",
    "Tg = 10**7\n",
    "c = 2.99*(10**10)\n",
    "UPC = 1\n",
    "error = 10**(-7)"
   ]
  },
  {
   "cell_type": "markdown",
   "metadata": {},
   "source": [
    "## Part A: Root Finding\n",
    "For the first part of this project, the goal was to approximate the location of the root of the energy balance equation for the electron plasma. That function and its derivative are defined here. Notice the use of the variables defined above."
   ]
  },
  {
   "cell_type": "code",
   "execution_count": 2,
   "metadata": {},
   "outputs": [],
   "source": [
    "# Energy balance equation for the electron plasma\n",
    "# parameters: an integer temperature of electrons\n",
    "# returns: an integer\n",
    "def f(x):\n",
    "    y = ((Q*UPC)*(x-Tg))-((L/(c**3))*((Tp/x)-1)*(1/(x**(1/2))))\n",
    "    return y\n",
    "\n",
    "# Derivative of f(x)\n",
    "# parameters: an integer\n",
    "# returns: an integer\n",
    "def fprime(x):\n",
    "    return ((Q*UPC)+((3/2)*(L/c**3)*Tp*(x**(-5/2)))-(L/(2*(c**3)*(x**3/2))))"
   ]
  },
  {
   "cell_type": "code",
   "execution_count": 3,
   "metadata": {
    "scrolled": false
   },
   "outputs": [
    {
     "data": {
      "image/png": "[encoded data removed]",
      "text/plain": [
       "<matplotlib.figure.Figure at 0x105fdd978>"
      ]
     },
     "metadata": {},
     "output_type": "display_data"
    }
   ],
   "source": [
    "# Visualization of larger scale of the graph\n",
    "plt.subplot(1, 3, 1)\n",
    "xvals = np.arange(1, 10**8, 10)\n",
    "plt.title(\"Fig 1\\n x = 1 to x = 10^8\", position= [0.5, 1.05])\n",
    "plt.xlabel(\"Electron temperature (x)\", position= [0.15, 0])\n",
    "plt.ylabel(\"f(x)\")\n",
    "plt.plot(xvals, f(xvals), c=\"m\")\n",
    "\n",
    "# \"Zoomed in\" image of the root\n",
    "plt.subplot(1, 3, 3)\n",
    "zvals = np.arange(1.78*(10**7), 1.8*(10**7), 10)\n",
    "plt.title(\"Fig 2\\n x = 1.78*(10^7) to x = 1.8*(10^7)\", position= [0.5, 1.05])\n",
    "plt.xlabel(\"Electron temperature (x)\", position= [0.15, 0])\n",
    "plt.ylabel(\"f(x)\")\n",
    "plt.plot(zvals, f(zvals), c=\"c\")\n",
    "\n",
    "plt.suptitle(\"Energy Balance Equation for Electron Plasma f(x)\", position= [0.5, 1.1], fontsize = \"x-large\")\n",
    "plt.show()"
   ]
  },
  {
   "cell_type": "markdown",
   "metadata": {},
   "source": [
    "Both methods used to approximate the root require initial guesses of the location of the root. Thus, the function is graphed so that these guesses can be made from a visual. Here, due to the shape of the function, it is hard to tell from the first graph. The second graph shows a more precise location of the root by \"zooming\" in on the graph.\n",
    "\n",
    "Then the bisect function and Newton-Raphson function are written to approximate the roots of the function.\n",
    "\n",
    "The ***bisection method*** requires two inputs, one positive and one negative, that bracket the location of the root. The function determines the value of the function of the midpoint between the two points. If the midpoint is positive, it replaces the positive point; if it is negative, it replaces the negative point. Then, the midpoint is found between those two points. Theoretically, the process repeats until the root is found. In this code, the process repeats until a point is found within the determined error range. \n",
    "\n",
    "The ***Newton-Raphson method*** takes a point and calculates a line that passes through the point and has the slope of the function at that point (this is done using the value of the function at x and the value of the function's derivative at x). Then, the point at which that line passes through the x axis is used as the new x value for the new point, and the process repeats again until the value of the function is within the error range. \n",
    "\n",
    "For both methods, the approximate x value of the root is reported. "
   ]
  },
  {
   "cell_type": "code",
   "execution_count": 4,
   "metadata": {},
   "outputs": [],
   "source": [
    "# Bisect function\n",
    "# parameters: two integers (bisection interval), a function, an error integer\n",
    "# returns: aproximate location of root integer\n",
    "def bisect(x1, x2, func, acc):\n",
    "    if (x1 == x2):\n",
    "        throw(\"Bad initial range\")\n",
    "    root = None\n",
    "    f1=func(x1)\n",
    "    f2=func(x2)\n",
    "    count = 0\n",
    "    while abs(f1) > acc and abs(f2) > acc:\n",
    "        count+=1\n",
    "        x3 = x1 + 0.5*(x2-x1)\n",
    "        f3 = func(x3)\n",
    "        if f3 == 0:\n",
    "            root = x3\n",
    "            return root\n",
    "        if f1*f3 < 0.0:\n",
    "            f2 = f3\n",
    "            x2 = x3\n",
    "        else:\n",
    "            f1 = f3\n",
    "            x1 = x3\n",
    "    if abs(f1) < acc:\n",
    "        root = x1\n",
    "    else:\n",
    "        root = x2\n",
    "    print(\"Root located at x = \" + str(root) + \", found by bisection\")\n",
    "    print(\"Number of iterations: \" + str(count))"
   ]
  },
  {
   "cell_type": "code",
   "execution_count": 5,
   "metadata": {},
   "outputs": [],
   "source": [
    "# Newton-Raphson function\n",
    "# parameters: integer root guess, an error integer, a function, the function's derivative\n",
    "# returns: approximate location of root integer\n",
    "def newt_raph(x, acc, func, funcprime):\n",
    "    count = 0\n",
    "    while abs(func(x)) > acc:\n",
    "        count += 1\n",
    "        xnew = (x-((func(x))/(funcprime(x))))\n",
    "        x = xnew\n",
    "    print(\"Root at x = \" + str(x)+ \", found by the Newton-Raphson method \\nNumber of iterations: \" + str(count))"
   ]
  },
  {
   "cell_type": "markdown",
   "metadata": {},
   "source": [
    ">Here the function is run using values from Figure 2. "
   ]
  },
  {
   "cell_type": "code",
   "execution_count": 6,
   "metadata": {},
   "outputs": [
    {
     "name": "stdout",
     "output_type": "stream",
     "text": [
      "Root located at x = 17903515.625, found by bisection\n",
      "Number of iterations: 7\n",
      "Root at x = 17903506.60807151, found by the Newton-Raphson method \n",
      "Number of iterations: 1\n"
     ]
    }
   ],
   "source": [
    "bisect(1.79*(10**7), 1.795*(10**7), f, error)\n",
    "newt_raph(1.8*(10**7), error, f, fprime)"
   ]
  },
  {
   "cell_type": "markdown",
   "metadata": {},
   "source": [
    ">Here, the photon and proton temperatures as well as the ratio U/(pc^2) are changed and the process is repeated.  The following code uses the ranges specified on the assignment sheet. The difference in the approximate locations of the roots between these results and the previous results demonstrate how the constants change the behavior of the function."
   ]
  },
  {
   "cell_type": "code",
   "execution_count": 7,
   "metadata": {},
   "outputs": [
    {
     "data": {
      "image/png": "[encoded data removed]",
      "text/plain": [
       "<matplotlib.figure.Figure at 0x104030710>"
      ]
     },
     "metadata": {},
     "output_type": "display_data"
    },
    {
     "name": "stdout",
     "output_type": "stream",
     "text": [
      "Root located at x = 721562500.0, found by bisection\n",
      "Number of iterations: 5\n",
      "Root at x = 721468021.9926018, found by the Newton-Raphson method \n",
      "Number of iterations: 3\n"
     ]
    }
   ],
   "source": [
    "# Change of variabes\n",
    "Tp =  10**7\n",
    "Tg = 10**9\n",
    "UPC = 8*(10**(-5))\n",
    "\n",
    "# Larger scale plot\n",
    "plt.subplot(1, 3, 1)\n",
    "xvals = np.arange(1, 10**8, 10)\n",
    "plt.title(\"Fig 3\\nx = 1 to x = 10^8\", position= [0.5, 1.05])\n",
    "plt.xlabel(\"Electron temperature (x)\", position= [0.15, 0])\n",
    "plt.ylabel(\"f(x)\")\n",
    "plt.plot(xvals, f(xvals), c=\"maroon\")\n",
    "\n",
    "# Smaller scale plot\n",
    "plt.subplot(1, 3, 3)\n",
    "zvals = np.arange((10**7), (10**9), 10)\n",
    "plt.title(\"Fig 4\\n x = 10^7 to x = 10^9\", position= [0.5, 1.05])\n",
    "plt.xlabel(\"Electron temperature (x)\", position= [0.15, 0])\n",
    "plt.ylabel(\"f(x)\")\n",
    "plt.plot(zvals, f(zvals), c =\"springgreen\")\n",
    "\n",
    "plt.suptitle(\"Energy Balance Equation for Electron Plasma with Changed Constants\", position= [0.5, 1.1], fontsize=\"x-large\")\n",
    "plt.show()\n",
    "\n",
    "# Root approximation techniques\n",
    "bisect(10**7, 10**9, f, error)\n",
    "newt_raph(10**9, error, f, fprime)"
   ]
  },
  {
   "cell_type": "markdown",
   "metadata": {},
   "source": [
    "___\n",
    "## Part B: Polynomial Interpolation\n",
    "Polynomial interpolation is the process by which values of a function are estimated between a set of points. In this project, Neville's algorithm was used to estimate the values of a function y(x) where x = 5 and x = -5. "
   ]
  },
  {
   "cell_type": "code",
   "execution_count": 8,
   "metadata": {},
   "outputs": [],
   "source": [
    "# y(x)\n",
    "# parameters: one integer x value\n",
    "# returns: an integer y value\n",
    "def y(x):\n",
    "    return (3+(200*x)-(30*(x**2))+(4*(x**3))-(x**4))"
   ]
  },
  {
   "cell_type": "markdown",
   "metadata": {},
   "source": [
    ">First, the function is plotted and its roots are found using bisection"
   ]
  },
  {
   "cell_type": "code",
   "execution_count": 9,
   "metadata": {},
   "outputs": [
    {
     "data": {
      "image/png": "[encoded data removed]",
      "text/plain": [
       "<matplotlib.figure.Figure at 0x105fb8748>"
      ]
     },
     "metadata": {},
     "output_type": "display_data"
    }
   ],
   "source": [
    "xvals = np.arange(-10, 10, 0.1)\n",
    "plt.plot(xvals, y(xvals), c=\"plum\")\n",
    "plt.title(\"Fig 5\\ny(x) = 3+(200x)-(30x^2)+(4x^3))-(x^4)\", size = \"x-large\")\n",
    "plt.xlabel(\"x\")\n",
    "plt.ylabel(\"y(x)\")\n",
    "plt.show()"
   ]
  },
  {
   "cell_type": "code",
   "execution_count": 10,
   "metadata": {},
   "outputs": [
    {
     "name": "stdout",
     "output_type": "stream",
     "text": [
      "Root located at x = -0.014966334216296673, found by bisection\n",
      "Number of iterations: 31\n",
      "Root located at x = 5.369349683634937, found by bisection\n",
      "Number of iterations: 31\n"
     ]
    }
   ],
   "source": [
    "bisect(-1, 1, y, 1/(10**7))\n",
    "bisect(4, 6, y, 1/(10**7))"
   ]
  },
  {
   "cell_type": "markdown",
   "metadata": {},
   "source": [
    "***Neville's Algorithm*** is a method of polynomial interpolation that creates a polynomial that passes through a given set of points. The degree of the polynomial depends on the number of points given.\n",
    "\n",
    "The general structure of the algorithm is ${\\displaystyle p_{i,j}(x)={\\frac {(x-x_{j})p_{i,j-1}(x)-(x-x_{i})p_{i+1,j}(x)}{x_{i}-x_{j}}},\\,} {\\displaystyle 0\\leq i<j\\leq n.\\,} 0\\leq i<j\\leq n.\\,$ \n",
    "\n",
    "In this method, the polynomials of degrees quadratic or higher require the value of the polynomial of lesser degrees. Since this project required linear, quadratic, and cubic polynomials of the same form, three functions were written. The nevCubic calls the nevQuad function to obtain the value of *p1,2,3* and *p2,3,4*, just as newQuad calls nevLin to obtain the values of *p1,2* and *p2,3*. *p1,1* and *p2,2* are just the values of the function at the given points."
   ]
  },
  {
   "cell_type": "code",
   "execution_count": 11,
   "metadata": {},
   "outputs": [],
   "source": [
    "def nevLin(func, x, x1, x2):\n",
    "    a = (x-x2)*func(x1)\n",
    "    b = (x1-x)*func(x2)\n",
    "    c = x1-x2\n",
    "    return ((a+b)/c)\n",
    "\n",
    "def nevQuad(func, x, x1, x2, x3):\n",
    "    a = (x-x3)*(nevLin(func, x, x1, x2))\n",
    "    b = (x1-x)*(nevLin(func, x, x2, x3))\n",
    "    c = (x1-x3)\n",
    "    return ((a+b)/c)\n",
    "\n",
    "def nevCube(func, x, x1, x2, x3, x4):\n",
    "    a = (x-x4)*(nevQuad(func, x, x1, x2, x3))\n",
    "    b = (x1-x)*(nevQuad(func, x, x2, x3, x4))\n",
    "    c = (x1-x4)\n",
    "    return ((a+b)/c)\n",
    "\n",
    "def err(a, b):\n",
    "    y = round(abs((((a-b)/a))*100),2)\n",
    "    return str(y)"
   ]
  },
  {
   "cell_type": "code",
   "execution_count": 12,
   "metadata": {},
   "outputs": [
    {
     "name": "stdout",
     "output_type": "stream",
     "text": [
      "Value of y(-5): -2872\n",
      "Value of y(5): 128\n",
      "Interpolated value of y(-5) using linear polynomial: -3113.0\n",
      "error: 8.39%\n",
      "Interpolated value of y(5) using linear polynomial: 7.0\n",
      "error: 94.53%\n",
      "Interpolated value of y(-5) using quadratic polynomial: -2916.0\n",
      "error: 1.53%\n",
      "Interpolated value of y(5) using quadratic polynomial: 164.0\n",
      "error: 28.12%\n",
      "Interpolated value of y(-5) using cubic polynomial: -2868.0\n",
      "error: 0.14%\n",
      "Interpolated value of y(5) using cubic polynomial: 132.0\n",
      "error: 3.12%\n"
     ]
    }
   ],
   "source": [
    "print(\"Value of y(-5): \" + str(y(-5)))\n",
    "print(\"Value of y(5): \" + str(y(5)))\n",
    "\n",
    "print(\"Interpolated value of y(-5) using linear polynomial: \" +str(nevLin(y, -5, -6, -4)))\n",
    "print(\"error: \" + err(y(-5), nevLin(y, -5, -6, -4)) + \"%\")\n",
    "\n",
    "print(\"Interpolated value of y(5) using linear polynomial: \" +str(nevLin(y, 5, 4, 6)))\n",
    "print(\"error: \" + err(y(5), nevLin(y, 5, 4, 6)) + \"%\")\n",
    "\n",
    "print(\"Interpolated value of y(-5) using quadratic polynomial: \" +str(nevQuad(y, -5, -6, -4, -3)))\n",
    "print(\"error: \" + err(y(-5), nevQuad(y, -5, -6, -4, -3))+\"%\")\n",
    "\n",
    "print(\"Interpolated value of y(5) using quadratic polynomial: \" +str(nevQuad(y, 5, 4, 6, 7)))\n",
    "print(\"error: \" + err(y(5), nevQuad(y, 5, 4, 6, 7)) + \"%\")\n",
    "\n",
    "print(\"Interpolated value of y(-5) using cubic polynomial: \" +str(nevCube(y, -5, -7, -6, -4, -3)))\n",
    "print(\"error: \" +err(y(-5), nevCube(y, -5, -7, -6, -4, -3)) + \"%\")\n",
    "\n",
    "print(\"Interpolated value of y(5) using cubic polynomial: \" +str(nevCube(y, 5, 3, 4, 6, 7)))\n",
    "print(\"error: \" +err(y(5), nevCube(y, 5, 3, 4, 6, 7))+ \"%\")\n"
   ]
  },
  {
   "cell_type": "markdown",
   "metadata": {},
   "source": [
    "|Degree Polynomial| x = -5 |x<sub>1</sub>|x<sub>2</sub>|x<sub>3</sub>|x<sub>4</sub>|error||Degree Polynomial| x = 5 |x<sub>1</sub>|x<sub>2</sub>|x<sub>3</sub>|x<sub>4</sub>|error|\n",
    "|------|-------|--------|-------|--------||-------|--------||------|-------|--------|-------|--------||-------|--------|\n",
    "|Linear|-3113.0|-6|-4|-|-|8.39%||Linear|7.0|4|6|-|-|94.53%|\n",
    "|Quadratic|-2916.0|-6|-4|-3|-|1.53%||Quadratic|164.0|4|6|7|-|28.12%|\n",
    "|Cubic|-2868.0|-7|-6|-4|-3|0.14%||Cubic|132.0|3|4|6|7|3.12%|\n"
   ]
  },
  {
   "cell_type": "markdown",
   "metadata": {},
   "source": [
    "In figure five it seems that the slope of the function has a higher magnitude at x = -5 than at x = 5. This was confirmed using Wolfram Alpha (f'(5) = -300, f'(-5) = 1300). This implies that the sharper the slope, the better Neville's Algorithm is at predicting the value of the function at that point. However, in order to prove this, other points would need to be tested. What we can conclude is that Neville's algorithm performs better with higher magnitude polynomials, and that its accuracy changes depending on what point is chosen."
   ]
  },
  {
   "cell_type": "markdown",
   "metadata": {},
   "source": [
    "## Bonus"
   ]
  },
  {
   "cell_type": "code",
   "execution_count": 13,
   "metadata": {},
   "outputs": [],
   "source": [
    "# Bonus code was written by Elliot Pavlovich\n",
    "\n",
    "def cubic_spline(point, x, y):\n",
    "    len_minus_2 = len(x) - 2\n",
    "    len_minus_4 = len(x) - 4\n",
    "    coeff_matrix = np.zeros((len_minus_2, len_minus_2))\n",
    "    answers = np.zeros(len_minus_2)\n",
    "    y_double_prime = np.zeros(len(y))\n",
    "    len_minus_1 = len(x) - 1\n",
    "    len_minus_3 = len(x) - 3\n",
    "    len_minus_5 = len(x) - 5\n",
    "    \n",
    "    # start with j = 2 (meaning index = 1)\n",
    "    coeff_matrix[0,0] = (x[2]-x[0])/3\n",
    "    coeff_matrix[0,1] = (x[2]-x[1])/6\n",
    "    answers[0] = (y[2]-y[1])/(x[2]-x[1]) - (y[1]-y[0])/(x[1]-x[0])\n",
    "                            \n",
    "    for i in range(len_minus_4):\n",
    "        j = i + 2 # now loop from j = 3 to N-2\n",
    "        coeff_matrix[i+1,i] = (x[j]-x[j-1])/6\n",
    "        coeff_matrix[i+1,i+1] = (x[j+1]-x[j-1])/3\n",
    "        coeff_matrix[i+1,i+2] = (x[j+1]-x[j])/6\n",
    "        answers[i+1] = (y[j+1]-y[j])/(x[j+1]-x[j]) - (y[j]-y[j-1])/(x[j]-x[j-1])\n",
    "        \n",
    "    # N-1 line\n",
    "    coeff_matrix[len_minus_3,len_minus_4] = (x[len_minus_4]-x[len_minus_3])/6\n",
    "    coeff_matrix[len_minus_3,len_minus_3] = (x[len_minus_3]-x[len_minus_5])/3\n",
    "    answers[len_minus_3] = (y[len_minus_3]-y[len_minus_4])/(x[len_minus_3]-x[len_minus_4]) - (y[len_minus_4]-y[len_minus_5])/(x[len_minus_4]-x[len_minus_5])\n",
    "    \n",
    "    det_coeff = np.linalg.det(coeff_matrix)\n",
    "    \n",
    "    for i in range (len_minus_2):\n",
    "        cramer_matrix = coeff_matrix\n",
    "        for j in range(len_minus_2):\n",
    "            cramer_matrix[j,i] = answers[j]\n",
    "        \n",
    "        det_cramer_matrix = np.linalg.det(cramer_matrix)\n",
    "        y_double_prime[i+1] = det_cramer_matrix/det_coeff\n",
    "     \n",
    "    splined_y_array = np.zeros(len(y)-1)\n",
    "    y_array_length = len(y) - 1\n",
    "    \n",
    "    for j in range(y_array_length):\n",
    "        a_val = (x[j+1] - point)/(x[j+1]-x[j])\n",
    "        b_val = (point - x[j])/(x[j+1]-x[j])\n",
    "        c_val = ((a_val**3 - a_val)*((x[j+1]-x[j])**2))/6\n",
    "        d_val = ((b_val**3 - b_val)*((x[j+1]-x[j])**2))/6\n",
    "        splined_y_array[j] = a_val*y[j] + b_val*y[j+1] + c_val*y_double_prime[j] +d_val*y_double_prime[j+1] \n",
    "               \n",
    "    for k in range(len(x)):\n",
    "        if x[k] < point:\n",
    "            index = k    \n",
    "                 \n",
    "    return(splined_y_array[index])"
   ]
  },
  {
   "cell_type": "code",
   "execution_count": 14,
   "metadata": {},
   "outputs": [
    {
     "name": "stdout",
     "output_type": "stream",
     "text": [
      "-15836.411764705872\n",
      "-15740.75\n",
      "0.61\n",
      "0.0\n"
     ]
    }
   ],
   "source": [
    "print(cubic_spline(12, [11, 11.5, 12.5, 13], [y(11), y(11.5), y(12.5), y(13)]))\n",
    "print(nevCube(y, 12, 11, 11.5, 12.5, 13))\n",
    "print(err(y(12), cubic_spline(12, [11, 11.5, 12.5, 13], [y(11), y(11.5), y(12.5), y(13)])))\n",
    "print(err(y(12), nevCube(y, 12, 11, 11.5, 12.5, 13)))"
   ]
  },
  {
   "cell_type": "markdown",
   "metadata": {},
   "source": [
    "|Interpolation Method| x = 12|x<sub>1</sub>|x<sub>2</sub>|x<sub>3</sub>|x<sub>4</sub>|error|\n",
    "|---------|------|-------|--------|-------|--------|-------|\n",
    "|Cubic Spline|-15836.412|11|11.5|12.5|13|0.61%|\n",
    "|Neville's Allgorithm|-15740.75|11|11.5|12.5|13|0.0%|\n",
    "\n",
    "This implementation of Neville's Algorithm is more accurate than this implementation of the cubic spline. However they are both extremely accurate."
   ]
  }
 ],
 "metadata": {
  "kernelspec": {
   "display_name": "Python 3",
   "language": "python",
   "name": "python3"
  },
  "language_info": {
   "codemirror_mode": {
    "name": "ipython",
    "version": 3
   },
   "file_extension": ".py",
   "mimetype": "text/x-python",
   "name": "python",
   "nbconvert_exporter": "python",
   "pygments_lexer": "ipython3",
   "version": "3.6.4"
  }
 },
 "nbformat": 4,
 "nbformat_minor": 2
}
